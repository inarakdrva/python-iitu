{
 "cells": [
  {
   "cell_type": "markdown",
   "id": "74e4906b",
   "metadata": {},
   "source": [
    "### Task 1"
   ]
  },
  {
   "cell_type": "code",
   "execution_count": 4,
   "id": "2f7d2dc8",
   "metadata": {},
   "outputs": [
    {
     "name": "stdout",
     "output_type": "stream",
     "text": [
      "The perimeter of the square is: 8\n"
     ]
    }
   ],
   "source": [
    "a = 2\n",
    "P = 4 * a\n",
    "print('The perimeter of the square is:', P)"
   ]
  },
  {
   "cell_type": "markdown",
   "id": "4454e519",
   "metadata": {},
   "source": [
    "### Task 2"
   ]
  },
  {
   "cell_type": "code",
   "execution_count": 6,
   "id": "180d7323",
   "metadata": {},
   "outputs": [
    {
     "name": "stdout",
     "output_type": "stream",
     "text": [
      "The square area is: 4\n"
     ]
    }
   ],
   "source": [
    "a = 2\n",
    "S = a**2\n",
    "print('The square area is:', S)"
   ]
  },
  {
   "cell_type": "markdown",
   "id": "b684d3a6",
   "metadata": {},
   "source": [
    "### Task 3"
   ]
  },
  {
   "cell_type": "code",
   "execution_count": 7,
   "id": "48a65aa7",
   "metadata": {},
   "outputs": [
    {
     "name": "stdout",
     "output_type": "stream",
     "text": [
      "The square area is: 6\n",
      "The perimeter of the square is: 10\n"
     ]
    }
   ],
   "source": [
    "a = 2\n",
    "b = 3\n",
    "S = a*b\n",
    "P = 2*(a+b)\n",
    "print('The square area is:', S)\n",
    "print('The perimeter of the square is:', P)"
   ]
  },
  {
   "cell_type": "markdown",
   "id": "b2114ab7",
   "metadata": {},
   "source": [
    "### Task 4"
   ]
  },
  {
   "cell_type": "code",
   "execution_count": 8,
   "id": "334a9bf5",
   "metadata": {},
   "outputs": [
    {
     "name": "stdout",
     "output_type": "stream",
     "text": [
      "The diameter of the circle is: 12.56\n"
     ]
    }
   ],
   "source": [
    "d = 4\n",
    "Pi = 3.14\n",
    "L = Pi * d\n",
    "print('The diameter of the circle is:', L)"
   ]
  },
  {
   "cell_type": "markdown",
   "id": "1f1fba82",
   "metadata": {},
   "source": [
    "### Task 5"
   ]
  },
  {
   "cell_type": "code",
   "execution_count": 10,
   "id": "bb7948a0",
   "metadata": {},
   "outputs": [
    {
     "name": "stdout",
     "output_type": "stream",
     "text": [
      "The volume of the cube is: 125\n",
      "The square are of the cube is: 12.56\n"
     ]
    }
   ],
   "source": [
    "a = 5\n",
    "V = a**3\n",
    "S = 6*(a**2)\n",
    "print('The volume of the cube is:', V)\n",
    "print('The square are of the cube is:', L)"
   ]
  },
  {
   "cell_type": "markdown",
   "id": "f9a80ea5",
   "metadata": {},
   "source": [
    "### Task 6"
   ]
  },
  {
   "cell_type": "code",
   "execution_count": 11,
   "id": "09ec46ec",
   "metadata": {},
   "outputs": [
    {
     "name": "stdout",
     "output_type": "stream",
     "text": [
      "The volume is: 264\n",
      "The square area is: 268\n"
     ]
    }
   ],
   "source": [
    "a = 4\n",
    "b = 6\n",
    "c = 11\n",
    "V = a*b*c\n",
    "S = 2*((a*b)+(b*c)+(a*c))\n",
    "print('The volume is:', V)\n",
    "print('The square area is:', S)"
   ]
  },
  {
   "cell_type": "markdown",
   "id": "5f0db128",
   "metadata": {},
   "source": [
    "### Task 7"
   ]
  },
  {
   "cell_type": "code",
   "execution_count": 12,
   "id": "448bbbc7",
   "metadata": {},
   "outputs": [
    {
     "name": "stdout",
     "output_type": "stream",
     "text": [
      "The circumference of the circle is: 25.12\n",
      "The square area is: 50.24\n"
     ]
    }
   ],
   "source": [
    "R = 4\n",
    "Pi = 3.14\n",
    "L = 2*Pi*R\n",
    "S = Pi*(R**2)\n",
    "print('The circumference of the circle is:', L)\n",
    "print('The square area is:', S)"
   ]
  },
  {
   "cell_type": "markdown",
   "id": "3d2c3767",
   "metadata": {},
   "source": [
    "### Task 8"
   ]
  },
  {
   "cell_type": "code",
   "execution_count": 13,
   "id": "9b43e972",
   "metadata": {},
   "outputs": [
    {
     "name": "stdout",
     "output_type": "stream",
     "text": [
      "The arithmetic mean of a and b is: 50.0\n"
     ]
    }
   ],
   "source": [
    "a = 89\n",
    "b = 11\n",
    "arithmetic_mean = (a+b)/2\n",
    "print('The arithmetic mean of a and b is:', arithmetic_mean)"
   ]
  },
  {
   "cell_type": "markdown",
   "id": "6c0ed47e",
   "metadata": {},
   "source": [
    "### Task 9"
   ]
  },
  {
   "cell_type": "code",
   "execution_count": 16,
   "id": "70e6db2b",
   "metadata": {},
   "outputs": [
    {
     "name": "stdout",
     "output_type": "stream",
     "text": [
      "The gometric mean of a and b is: 81.02468759581859\n"
     ]
    }
   ],
   "source": [
    "from math import sqrt\n",
    "\n",
    "\n",
    "a = 101\n",
    "b = 65\n",
    "geom_mean = sqrt(a*b)\n",
    "print('The gometric mean of a and b is:', geom_mean)"
   ]
  },
  {
   "cell_type": "markdown",
   "id": "a7925e60",
   "metadata": {},
   "source": [
    "### Task 10"
   ]
  },
  {
   "cell_type": "code",
   "execution_count": 18,
   "id": "e5cf603b",
   "metadata": {},
   "outputs": [
    {
     "name": "stdout",
     "output_type": "stream",
     "text": [
      "The sum  is: 10025\n",
      "The difference  is: -1833\n",
      "The product is: 24285184\n",
      "The quotient is: 0.690841625906561\n"
     ]
    }
   ],
   "source": [
    "a = 64\n",
    "b = 77\n",
    "sum = (a**2) + (b**2)\n",
    "diff = (a**2) - (b**2)\n",
    "product = (a**2) * (b**2)\n",
    "quotient = (a ** 2) / (b ** 2)\n",
    "\n",
    "print('The sum  is:', sum)\n",
    "print('The difference  is:', diff)\n",
    "print('The product is:', product)\n",
    "print('The quotient is:', quotient)"
   ]
  },
  {
   "cell_type": "markdown",
   "id": "27e1e1cb",
   "metadata": {},
   "source": [
    "### Task 11"
   ]
  },
  {
   "cell_type": "code",
   "execution_count": 25,
   "id": "77c1a3de",
   "metadata": {},
   "outputs": [
    {
     "name": "stdout",
     "output_type": "stream",
     "text": [
      "The sum of modulos: 11\n",
      "The difference of modulos: -7\n",
      "The product of modulos: 18\n",
      "The quotient of modulos: 0.2222222222222222\n"
     ]
    }
   ],
   "source": [
    "a = 2\n",
    "b = 9\n",
    "mod_a = abs(a)\n",
    "mod_b = abs(b)\n",
    "\n",
    "sum_mod = mod_a + mod_b\n",
    "diff_mod = mod_a - mod_b\n",
    "prod_mod = mod_a * mod_b\n",
    "div_mod = mod_a / mod_b\n",
    "\n",
    "print('The sum of modulos:', sum_mod)\n",
    "print('The difference of modulos:', diff_mod)\n",
    "print('The product of modulos:', prod_mod)\n",
    "print('The quotient of modulos:', div_mod)"
   ]
  },
  {
   "cell_type": "markdown",
   "id": "e00d0055",
   "metadata": {},
   "source": [
    "### Task 12"
   ]
  },
  {
   "cell_type": "code",
   "execution_count": 27,
   "id": "09064e00",
   "metadata": {},
   "outputs": [
    {
     "name": "stdout",
     "output_type": "stream",
     "text": [
      "The c is: 6.4031242374328485\n",
      "The perimeter is: 15.403124237432849\n"
     ]
    }
   ],
   "source": [
    "a = 5\n",
    "b = 4\n",
    "c = sqrt((a**2)+(b**2))\n",
    "P = a+b+c\n",
    "print('The c is:', c)\n",
    "print('The perimeter is:', P)"
   ]
  },
  {
   "cell_type": "markdown",
   "id": "038f648b",
   "metadata": {},
   "source": [
    "### Task 13"
   ]
  },
  {
   "cell_type": "code",
   "execution_count": 28,
   "id": "1de8c074",
   "metadata": {},
   "outputs": [
    {
     "name": "stdout",
     "output_type": "stream",
     "text": [
      "The square area of circle 1 is: 706.5\n",
      "The square area of circle 2 is: 78.5\n",
      "The square area of circle 3 is: 628.0\n"
     ]
    }
   ],
   "source": [
    "R1 = 15\n",
    "R2 = 5\n",
    "Pi = 3.14\n",
    "S1 = Pi*(R1**2)\n",
    "S2 = Pi*(R2**2)\n",
    "S3 = S1-S2\n",
    "print('The square area of circle 1 is:', S1)\n",
    "print('The square area of circle 2 is:', S2)\n",
    "print('The square area of circle 3 is:', S3)"
   ]
  },
  {
   "cell_type": "markdown",
   "id": "46f24961",
   "metadata": {},
   "source": [
    "### Task 14"
   ]
  },
  {
   "cell_type": "code",
   "execution_count": 30,
   "id": "4507c5e4",
   "metadata": {},
   "outputs": [
    {
     "name": "stdout",
     "output_type": "stream",
     "text": [
      "The radius is: 5.414012738853503\n",
      "The square area is: 92.03821656050957\n"
     ]
    }
   ],
   "source": [
    "L = 34\n",
    "Pi = 3.14\n",
    "R = L/(2*Pi)\n",
    "S = Pi*(R**2)\n",
    "\n",
    "print('The radius is:', R)\n",
    "print('The square area is:', S)"
   ]
  },
  {
   "cell_type": "markdown",
   "id": "cde5591b",
   "metadata": {},
   "source": [
    "### Task 15"
   ]
  },
  {
   "cell_type": "code",
   "execution_count": 35,
   "id": "e87eddd5",
   "metadata": {},
   "outputs": [
    {
     "name": "stdout",
     "output_type": "stream",
     "text": [
      "The diameter is: 5.529308131009097\n",
      "The circumference of the circle is: 17.362027531368565\n"
     ]
    }
   ],
   "source": [
    "S = 24\n",
    "Pi = 3.14\n",
    "R = sqrt(S/Pi)\n",
    "D = (2*R)\n",
    "L = (2*Pi*R)\n",
    "\n",
    "print('The diameter is:', D)\n",
    "print('The circumference of the circle is:', L)"
   ]
  },
  {
   "cell_type": "markdown",
   "id": "fc5ff1fb",
   "metadata": {},
   "source": [
    "### Task 16"
   ]
  },
  {
   "cell_type": "code",
   "execution_count": 36,
   "id": "c0c4eea1",
   "metadata": {},
   "outputs": [
    {
     "name": "stdout",
     "output_type": "stream",
     "text": [
      "The distance between the points with coordinates 3 and 8 is: 5\n"
     ]
    }
   ],
   "source": [
    "def distance_between_points(x1, x2):\n",
    "    distance = abs(x2 - x1)\n",
    "    return distance\n",
    "\n",
    "x1 = 3\n",
    "x2 = 8\n",
    "distance = distance_between_points(x1, x2)\n",
    "print(\"The distance between the points with coordinates\", x1, \"and\", x2, \"is:\", distance)\n"
   ]
  },
  {
   "cell_type": "markdown",
   "id": "dc20e0d5",
   "metadata": {},
   "source": [
    "### Task 17"
   ]
  },
  {
   "cell_type": "code",
   "execution_count": 38,
   "id": "83432eb1",
   "metadata": {},
   "outputs": [
    {
     "name": "stdout",
     "output_type": "stream",
     "text": [
      "Length of segment AC: 3\n",
      "Length of segment BC: 3\n",
      "Sum of lengths of segments AC and BC: 6\n"
     ]
    }
   ],
   "source": [
    "def distance(point1, point2):\n",
    "    return abs(point1 - point2)\n",
    "A = 2\n",
    "B = 8\n",
    "C = 5\n",
    "\n",
    "length_ac = distance(A, C)\n",
    "length_bc = distance(B, C)\n",
    "\n",
    "sum_of_lengths = length_ac + length_bc\n",
    "\n",
    "print(\"Length of segment AC:\", length_ac)\n",
    "print(\"Length of segment BC:\", length_bc)\n",
    "print(\"Sum of lengths of segments AC and BC:\", sum_of_lengths)"
   ]
  },
  {
   "cell_type": "markdown",
   "id": "323913f2",
   "metadata": {},
   "source": [
    "### Task 18"
   ]
  },
  {
   "cell_type": "code",
   "execution_count": 39,
   "id": "70af8c56",
   "metadata": {},
   "outputs": [
    {
     "name": "stdout",
     "output_type": "stream",
     "text": [
      "The product of the lengths of segments AC and BC is: 4.0\n"
     ]
    }
   ],
   "source": [
    "def distance(x1, y1, x2, y2):\n",
    "    return ((x2 - x1) ** 2 + (y2 - y1) ** 2) ** 0.5\n",
    "\n",
    "x_a = 2\n",
    "x_b = 6\n",
    "x_c = 4\n",
    "\n",
    "y_a = y_b = y_c = 0\n",
    "\n",
    "length_ac = distance(x_a, y_a, x_c, y_c)\n",
    "length_bc = distance(x_b, y_b, x_c, y_c)\n",
    "\n",
    "product_lengths = length_ac * length_bc\n",
    "\n",
    "print(\"The product of the lengths of segments AC and BC is:\", product_lengths)"
   ]
  },
  {
   "cell_type": "markdown",
   "id": "71393bb2",
   "metadata": {},
   "source": [
    "### Task 19"
   ]
  },
  {
   "cell_type": "code",
   "execution_count": 41,
   "id": "38f8fbe2",
   "metadata": {},
   "outputs": [
    {
     "name": "stdout",
     "output_type": "stream",
     "text": [
      "The perimeter of the rectangle is: 16\n",
      "The area of the rectangle is: 16\n"
     ]
    }
   ],
   "source": [
    "def rectangle_perimeter(side1, side2):\n",
    "    return 2 * (side1 + side2)\n",
    "\n",
    "def rectangle_area(side1, side2):\n",
    "    return side1 * side2\n",
    "\n",
    "x1, y1 = 1, 2\n",
    "x2, y2 = 5, 6\n",
    "\n",
    "side_length_x = abs(x2 - x1)\n",
    "side_length_y = abs(y2 - y1)\n",
    "\n",
    "perimeter = rectangle_perimeter(side_length_x, side_length_y)\n",
    "area = rectangle_area(side_length_x, side_length_y)\n",
    "\n",
    "print(\"The perimeter of the rectangle is:\", perimeter)\n",
    "print(\"The area of the rectangle is:\", area)"
   ]
  },
  {
   "cell_type": "markdown",
   "id": "7a74a4f6",
   "metadata": {},
   "source": [
    "### Task 20"
   ]
  },
  {
   "cell_type": "code",
   "execution_count": 44,
   "id": "98015039",
   "metadata": {},
   "outputs": [
    {
     "name": "stdout",
     "output_type": "stream",
     "text": [
      "The distance between the two points is: 12.806248474865697\n"
     ]
    }
   ],
   "source": [
    "from math import sqrt\n",
    "\n",
    "x1 = 1\n",
    "y1 = 4\n",
    "x2 = 11\n",
    "y2 = 12\n",
    "\n",
    "distance = sqrt((x2 - x1)**2 + (y2 - y1)**2)\n",
    "\n",
    "print(\"The distance between the two points is:\", distance)"
   ]
  }
 ],
 "metadata": {
  "kernelspec": {
   "display_name": "Python 3 (ipykernel)",
   "language": "python",
   "name": "python3"
  },
  "language_info": {
   "codemirror_mode": {
    "name": "ipython",
    "version": 3
   },
   "file_extension": ".py",
   "mimetype": "text/x-python",
   "name": "python",
   "nbconvert_exporter": "python",
   "pygments_lexer": "ipython3",
   "version": "3.11.5"
  }
 },
 "nbformat": 4,
 "nbformat_minor": 5
}
