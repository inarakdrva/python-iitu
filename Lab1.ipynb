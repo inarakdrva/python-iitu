{
 "cells": [
  {
   "cell_type": "raw",
   "id": "c43ccbba-ca82-4c4c-87d6-0fc322cde794",
   "metadata": {},
   "source": [
    "Python Lab #1"
   ]
  },
  {
   "cell_type": "code",
   "execution_count": 3,
   "id": "3cda3729-dc72-41fe-9cca-02adbb15c2ae",
   "metadata": {
    "tags": []
   },
   "outputs": [
    {
     "name": "stdout",
     "output_type": "stream",
     "text": [
      "Hello World\n"
     ]
    }
   ],
   "source": [
    "#Ex1\n",
    "\n",
    "print(\"Hello World\")"
   ]
  },
  {
   "cell_type": "code",
   "execution_count": 5,
   "id": "52e1d2de-51b3-42fd-a7ac-3be9516b7e1b",
   "metadata": {
    "tags": []
   },
   "outputs": [
    {
     "name": "stdout",
     "output_type": "stream",
     "text": [
      "YES\n"
     ]
    }
   ],
   "source": [
    "#Ex2: print \"YES\" if 5 is larger than 2\n",
    "\n",
    "x = 5 > 2\n",
    "if x is True:\n",
    "    print(\"YES\")"
   ]
  },
  {
   "cell_type": "code",
   "execution_count": 6,
   "id": "3fe12915-ba42-4ae6-8dc8-fdbf84cfba72",
   "metadata": {
    "tags": []
   },
   "outputs": [],
   "source": [
    "#Ex3\n",
    "\n",
    "\n",
    "#This is a comment"
   ]
  },
  {
   "cell_type": "code",
   "execution_count": 8,
   "id": "9aa5d064-4591-40ad-af6a-f59d8079b21a",
   "metadata": {
    "tags": []
   },
   "outputs": [
    {
     "data": {
      "text/plain": [
       "'\\nThis is a comment\\nwritten in \\nmore than just one line\\n'"
      ]
     },
     "execution_count": 8,
     "metadata": {},
     "output_type": "execute_result"
    }
   ],
   "source": [
    "#Ex4\n",
    "\n",
    "\"\"\"\n",
    "This is a comment\n",
    "written in \n",
    "more than just one line\n",
    "\"\"\""
   ]
  },
  {
   "cell_type": "code",
   "execution_count": 9,
   "id": "d5814ea3-1369-46f6-a442-780919839500",
   "metadata": {
    "tags": []
   },
   "outputs": [
    {
     "name": "stdout",
     "output_type": "stream",
     "text": [
      "Volvo\n"
     ]
    }
   ],
   "source": [
    "#Ex5: Create a variable named carname and assign the value Volvo to it.\n",
    "\n",
    "carname = 'Volvo'\n",
    "print(carname)"
   ]
  },
  {
   "cell_type": "code",
   "execution_count": 11,
   "id": "50868cf4-6707-4086-813f-715f51f60016",
   "metadata": {
    "tags": []
   },
   "outputs": [
    {
     "name": "stdout",
     "output_type": "stream",
     "text": [
      "50\n"
     ]
    }
   ],
   "source": [
    "#Ex6: Create a variable named x and assign the value 50 to it.\n",
    "\n",
    "x = 50\n",
    "print(x)"
   ]
  },
  {
   "cell_type": "code",
   "execution_count": 12,
   "id": "13e65e43-6108-48a8-8fe2-4ce9829b7b14",
   "metadata": {
    "tags": []
   },
   "outputs": [
    {
     "name": "stdout",
     "output_type": "stream",
     "text": [
      "15\n"
     ]
    }
   ],
   "source": [
    "#Ex7: Display the sum of 5 + 10, using two variables: x and y.\n",
    "\n",
    "x = 5\n",
    "y = 10\n",
    "print(x + y)"
   ]
  },
  {
   "cell_type": "code",
   "execution_count": 13,
   "id": "4d8aa79d-0aef-4787-ab0e-3a7733ae5f03",
   "metadata": {
    "tags": []
   },
   "outputs": [
    {
     "name": "stdout",
     "output_type": "stream",
     "text": [
      "15\n"
     ]
    }
   ],
   "source": [
    "#Ex8: Create a variable called z, assign x + y to it, and display the result.\n",
    "\n",
    "x = 5\n",
    "y = 10\n",
    "z = (x + y)\n",
    "\n",
    "print(z)"
   ]
  },
  {
   "cell_type": "code",
   "execution_count": 17,
   "id": "c376b275-6435-49a8-9542-b23cd1d34028",
   "metadata": {
    "tags": []
   },
   "outputs": [
    {
     "name": "stdout",
     "output_type": "stream",
     "text": [
      "Orange\n",
      "Banana\n",
      "Cherry\n"
     ]
    }
   ],
   "source": [
    "#Ex9: Insert the correct syntax to assign values to multiple variables in one line:\n",
    "\n",
    "x, y, z = \"Orange\", \"Banana\", \"Cherry\"\n",
    "\n",
    "print(x)\n",
    "print(y)\n",
    "print(z)"
   ]
  },
  {
   "cell_type": "code",
   "execution_count": 20,
   "id": "30a4608f-2967-4e0c-b71f-5d63ab0a0461",
   "metadata": {
    "tags": []
   },
   "outputs": [
    {
     "name": "stdout",
     "output_type": "stream",
     "text": [
      "Orange\n",
      "Orange\n",
      "Orange\n"
     ]
    }
   ],
   "source": [
    "#Ex10: Insert the correct syntax to assign the same value to all three variables in one code line.\n",
    "\n",
    "x = y = z = \"Orange\"\n",
    "\n",
    "print(x)\n",
    "print(y)\n",
    "print(z)"
   ]
  },
  {
   "cell_type": "code",
   "execution_count": 24,
   "id": "e92d3fd5-b8f9-46c9-ac20-ec0212175422",
   "metadata": {
    "tags": []
   },
   "outputs": [
    {
     "name": "stdout",
     "output_type": "stream",
     "text": [
      "fantastic\n"
     ]
    }
   ],
   "source": [
    "#Ex11: Insert the correct keyword to make the variable x belong to the global scope.\n",
    "\n",
    "def myfunc():\n",
    "    global x\n",
    "    x = \"fantastic\"\n",
    "\n",
    "myfunc() \n",
    "print(x) "
   ]
  },
  {
   "cell_type": "code",
   "execution_count": 25,
   "id": "d9588f3b-7806-4140-8e60-fd89622fada1",
   "metadata": {
    "tags": []
   },
   "outputs": [
    {
     "name": "stdout",
     "output_type": "stream",
     "text": [
      "<class 'int'>\n"
     ]
    }
   ],
   "source": [
    "#Ex12: The following code example would print the data type of x, what data type would that be?\n",
    "\n",
    "x = 5\n",
    "print(type(x))"
   ]
  },
  {
   "cell_type": "code",
   "execution_count": 26,
   "id": "64aacabd-f2fc-4a6b-b872-c7ef60bd4aa6",
   "metadata": {
    "tags": []
   },
   "outputs": [
    {
     "name": "stdout",
     "output_type": "stream",
     "text": [
      "<class 'str'>\n"
     ]
    }
   ],
   "source": [
    "#Ex13: The following code example would print the data type of x, what data type would that be?\n",
    "\n",
    "x = \"Hello World\"\n",
    "print(type(x))"
   ]
  },
  {
   "cell_type": "code",
   "execution_count": 27,
   "id": "e02b0fc0-c941-47d9-8ab2-281682f900cf",
   "metadata": {
    "tags": []
   },
   "outputs": [
    {
     "name": "stdout",
     "output_type": "stream",
     "text": [
      "<class 'float'>\n"
     ]
    }
   ],
   "source": [
    "#Ex14: The following code example would print the data type of x, what data type would that be?\n",
    "\n",
    "x = 20.5\n",
    "print(type(x))"
   ]
  },
  {
   "cell_type": "code",
   "execution_count": 28,
   "id": "9540b0d1-635b-46a6-8efa-05bc085c43cc",
   "metadata": {
    "tags": []
   },
   "outputs": [
    {
     "name": "stdout",
     "output_type": "stream",
     "text": [
      "<class 'list'>\n"
     ]
    }
   ],
   "source": [
    "#Ex15: The following code example would print the data type of x, what data type would that be?\n",
    "\n",
    "x = [\"apple\", \"banana\", \"cherry\"]\n",
    "print(type(x))"
   ]
  },
  {
   "cell_type": "code",
   "execution_count": 29,
   "id": "ec61feb2-4934-4ce5-b842-51fb43b1cca5",
   "metadata": {
    "tags": []
   },
   "outputs": [
    {
     "name": "stdout",
     "output_type": "stream",
     "text": [
      "<class 'dict'>\n"
     ]
    }
   ],
   "source": [
    "#Ex16: The following code example would print the data type of x, what data type would that be?\n",
    "\n",
    "x = {\"name\" : \"John\", \"age\" : 36}\n",
    "print(type(x))"
   ]
  },
  {
   "cell_type": "code",
   "execution_count": 30,
   "id": "4a8c2e9f-877a-45c3-a0de-7aa82482f040",
   "metadata": {
    "tags": []
   },
   "outputs": [
    {
     "name": "stdout",
     "output_type": "stream",
     "text": [
      "<class 'bool'>\n"
     ]
    }
   ],
   "source": [
    "#Ex17: The following code example would print the data type of x, what data type would that be?\n",
    "\n",
    "x = True\n",
    "print(type(x))"
   ]
  },
  {
   "cell_type": "code",
   "execution_count": 36,
   "id": "6bd0dc59-b1df-484f-a39d-4731d4d73653",
   "metadata": {
    "tags": []
   },
   "outputs": [
    {
     "name": "stdout",
     "output_type": "stream",
     "text": [
      "<class 'float'>\n"
     ]
    }
   ],
   "source": [
    "#Ex18: Insert the correct syntax to convert x into a floating point number.\n",
    "\n",
    "x = 5\n",
    "x = float(x)\n",
    "\n",
    "print(type(x))"
   ]
  },
  {
   "cell_type": "code",
   "execution_count": 35,
   "id": "a22dc898-665c-4fe5-9eee-89ab34459657",
   "metadata": {
    "tags": []
   },
   "outputs": [
    {
     "name": "stdout",
     "output_type": "stream",
     "text": [
      "<class 'str'>\n"
     ]
    }
   ],
   "source": [
    "#Ex19: Insert the correct syntax to convert x into a integer.\n",
    "\n",
    "x = 5.5\n",
    "x = str(x)\n",
    "\n",
    "print(type(x))"
   ]
  },
  {
   "cell_type": "code",
   "execution_count": 37,
   "id": "a68a3360-d0f0-46f5-8aae-f6d1430e7207",
   "metadata": {
    "tags": []
   },
   "outputs": [
    {
     "name": "stdout",
     "output_type": "stream",
     "text": [
      "<class 'complex'>\n"
     ]
    }
   ],
   "source": [
    "#Ex20: Insert the correct syntax to convert x into a complex number.\n",
    "\n",
    "x = 5\n",
    "x = complex(x)\n",
    "\n",
    "print(type(x))"
   ]
  }
 ],
 "metadata": {
  "kernelspec": {
   "display_name": "Python 3 (ipykernel)",
   "language": "python",
   "name": "python3"
  },
  "language_info": {
   "codemirror_mode": {
    "name": "ipython",
    "version": 3
   },
   "file_extension": ".py",
   "mimetype": "text/x-python",
   "name": "python",
   "nbconvert_exporter": "python",
   "pygments_lexer": "ipython3",
   "version": "3.11.5"
  }
 },
 "nbformat": 4,
 "nbformat_minor": 5
}
